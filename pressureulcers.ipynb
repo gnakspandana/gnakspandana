{
  "nbformat": 4,
  "nbformat_minor": 0,
  "metadata": {
    "colab": {
      "private_outputs": true,
      "provenance": [],
      "include_colab_link": true
    },
    "kernelspec": {
      "name": "python3",
      "display_name": "Python 3"
    },
    "language_info": {
      "name": "python"
    },
    "gpuClass": "standard"
  },
  "cells": [
    {
      "cell_type": "markdown",
      "metadata": {
        "id": "view-in-github",
        "colab_type": "text"
      },
      "source": [
        "<a href=\"https://colab.research.google.com/github/gnakspandana/gnakspandana/blob/main/pressureulcers.ipynb\" target=\"_parent\"><img src=\"https://colab.research.google.com/assets/colab-badge.svg\" alt=\"Open In Colab\"/></a>"
      ]
    },
    {
      "cell_type": "markdown",
      "source": [
        "\n",
        "**Major Challenge - Prevention and early treatment of pressure ulcers is a major challenge for health care professionals.** "
      ],
      "metadata": {
        "id": "6MxoBTi66880"
      }
    },
    {
      "cell_type": "markdown",
      "source": [
        "Business Understanding:\n",
        "Pressure ulcers are a worldwide health issue because they prolong hospital stays and increase medical costs. Europe is treated as the second largest pressure ulcer treatment market. But the good news is within a ten year period the pressure ulcer has decreased 17 to 11 % due to various precautions and prevention measures. "
      ],
      "metadata": {
        "id": "y_zUbGhReMDV"
      }
    },
    {
      "cell_type": "code",
      "execution_count": null,
      "metadata": {
        "id": "skD26uX_H_eG"
      },
      "outputs": [],
      "source": [
        "from google.colab import drive\n",
        "drive.mount('/content/drive')"
      ]
    },
    {
      "cell_type": "markdown",
      "source": [
        "**Converting the excel data to pandas**"
      ],
      "metadata": {
        "id": "BDgyPEu5wfmW"
      }
    },
    {
      "cell_type": "code",
      "source": [
        "import pandas as pd\n",
        "\n",
        "data=pd.read_excel('/content/drive/MyDrive/datos_analisis2 - english.xlsx')\n",
        "data"
      ],
      "metadata": {
        "id": "oQAG0UIjSGsk"
      },
      "execution_count": null,
      "outputs": []
    },
    {
      "cell_type": "markdown",
      "source": [
        "**Data visualization**:\n",
        "Understanding the data"
      ],
      "metadata": {
        "id": "BpUulZwWwk48"
      }
    },
    {
      "cell_type": "markdown",
      "source": [
        "**Figure 1**"
      ],
      "metadata": {
        "id": "l5Z2ECSMVZIE"
      }
    },
    {
      "cell_type": "markdown",
      "source": [
        "Figure 1 no. of patients having pressure ulcers in stage 1 and stage 2. As shown in the figure stage 2 has less data than stage 1. Among that male data is less that female. This shows that the data is baised.\n",
        "\n",
        "We can also see that age group 60-80 are having pressure ulcers in the given data. There"
      ],
      "metadata": {
        "id": "G0GR0NlWl_g_"
      }
    },
    {
      "cell_type": "code",
      "source": [
        "import matplotlib.pyplot as plt\n",
        "import seaborn as sns\n",
        "\n",
        "\n",
        "\n",
        "s=data.groupby(['Sex','Ulcer_stage']).size().unstack(0).plot(kind='bar', rot=0,color=['pink', 'skyblue']) #unstack - pivot a level of the row index to the column index.\n",
        "plt.ylabel(\"Count\")\n",
        "plt.title('Unbalanced Dataset')\n",
        "\n",
        "age_intervals = pd.cut(data.Age, bins=[40, 50, 60, 70, 80])\n",
        "#groupping the columns and plotting a bar graph\n",
        "s=data.groupby(['Sex',age_intervals,'Ulcer_stage']).size().unstack([0,'Ulcer_stage']).plot(kind='bar', rot=0,color=['pink','lightcoral', 'skyblue','deepskyblue']) #unstack - pivot a level of the row index to the column index.\n",
        "plt.ylabel(\"Count\")\n",
        "plt.title('Patients in stage1 & 2 based on Age')\n",
        "\n",
        "# Add count values to the bars\n",
        "for bar in s.containers:\n",
        "    s.bar_label(bar, label_type='edge')\n",
        "plt.show()\n"
      ],
      "metadata": {
        "id": "3X4h9pfDYobK"
      },
      "execution_count": null,
      "outputs": []
    },
    {
      "cell_type": "markdown",
      "source": [
        "**Figure 2**"
      ],
      "metadata": {
        "id": "rFGWoeirWAaB"
      }
    },
    {
      "cell_type": "markdown",
      "source": [
        "Figure 2 shows the location where stage 1 and stage 2 pressure ulcers occured for the patients given in the dataset. Based on the graph most of the patients got pressure ulcers(both state1 and stage 2 ulcers) at sacrum and gluteus.Its also seen that stage 2 pressure ulcers are more even at heel area for female patients as per the given data"
      ],
      "metadata": {
        "id": "5mXmybOKVUes"
      }
    },
    {
      "cell_type": "code",
      "source": [
        "\n",
        "Loc=data[data['Ulcer_stage'] == 2].groupby(['Location','Sex']).size().unstack(['Sex']).plot(kind='bar', rot=0,color=[ 'lightcoral','deepskyblue']) #unstack - pivot a level of the row index to the column index.\n",
        "# Add count values to the bars\n",
        "for bar in Loc.containers:                                                                                                                                                                                                                                                                                                                                                                                                                                                                                                                                                          \n",
        "    Loc.bar_label(bar, label_type='edge')\n",
        "\n",
        "plt.ylabel(\"Count\")\n",
        "plt.title('Location of Pressure Ulcer in the body Stage 2')\n",
        "\n",
        "Loc=data[data['Ulcer_stage'] == 1].groupby(['Location','Sex']).size().unstack(['Sex']).plot(kind='bar', rot=0,color=['pink','lightskyblue']) #unstack - pivot a level of the row index to the column index.\n",
        "# Add count values to the bars\n",
        "for bar in Loc.containers:                                                                                                                                                                                                                                                                                                                                                                                                                                                                                                                                                          \n",
        "    Loc.bar_label(bar, label_type='edge')\n",
        "plt.ylabel(\"Count\")\n",
        "plt.title('Location of Pressure Ulcer in the body Stage 1')\n",
        "plt.show()"
      ],
      "metadata": {
        "id": "QBpVXwRgVRXz"
      },
      "execution_count": null,
      "outputs": []
    },
    {
      "cell_type": "markdown",
      "source": [
        "**Figure 3**"
      ],
      "metadata": {
        "id": "Y_EJsb138R4k"
      }
    },
    {
      "cell_type": "markdown",
      "source": [
        "Figure 3 shows the Dataset having count of hydrocellular and hydrocolloid dressing type for both stage 1 and stage 2 pressure ulcers. As per the figure we see in stage 1 hydrcellular and hydrocolloid dressing was mostly used , were as in stage 2 hydrocolloid is mostly used than hydrocellular dressing\n"
      ],
      "metadata": {
        "id": "kw0xQMsz0aSu"
      }
    },
    {
      "cell_type": "code",
      "source": [
        "#groupping the columns and plotting a bar graph\n",
        "Dressing=data[data['Ulcer_stage'] == 2].groupby(['Dressing type','Sex']).size().unstack(['Sex']).plot(kind='bar', rot=0,color=['pink','lightskyblue']) #unstack - pivot a level of the row index to the column index.\n",
        "# Add count values to the bars\n",
        "for bar in Dressing.containers:\n",
        "    Dressing.bar_label(bar, label_type='edge')\n",
        "plt.ylabel(\"Count\")\n",
        "plt.title('Dressing type mostly used in stage 2')\n",
        "\n",
        "Dressing=data[data['Ulcer_stage'] == 1].groupby(['Dressing type','Sex']).size().unstack(['Sex']).plot(kind='bar', rot=0,color=['pink','lightskyblue']) #unstack - pivot a level of the row index to the column index.\n",
        "# Add count values to the bars\n",
        "for bar in Dressing.containers:\n",
        "    Dressing.bar_label(bar, label_type='edge')\n",
        "plt.ylabel(\"Count\")\n",
        "plt.title('Dressing type mostly used in stage 1')\n",
        "\n",
        "plt.show()"
      ],
      "metadata": {
        "id": "jIdN5nqH0YBe"
      },
      "execution_count": null,
      "outputs": []
    },
    {
      "cell_type": "markdown",
      "source": [
        "Although the dataset given is unblance it has been seen overall differences regarding pressure ulcer occurrence are minor. \n",
        "Gender and/or sex can rather not be considered as an independent risk factor for pressure ulcer development and differences regarding pressure ulcer prevention interventions seem to be minor by (A Lichterfeld-Kottner, N Lahmann, J Kottner - Journal of tissue viability, 2020 - Elsevier)"
      ],
      "metadata": {
        "id": "_hCfBqXSlp0A"
      }
    },
    {
      "cell_type": "markdown",
      "source": [
        "**Figure 4**"
      ],
      "metadata": {
        "id": "1Iq4DenWt-b_"
      }
    },
    {
      "cell_type": "markdown",
      "source": [
        "Although hydrocolloid dressing was mostly used, the overall healing rate  is more in hydrocellular dressing as shown in the figure below no. of patients who are hard to heal is less in hydrocellular dressing. "
      ],
      "metadata": {
        "id": "0xN1BnnGuFw4"
      }
    },
    {
      "cell_type": "code",
      "source": [
        "# Create the 'num_cat' column\n",
        "data['num_cat'] = data['Push Scale'].apply(lambda x: 'Hard to heal' if x <=10 else 'not hard to heal')\n",
        "# Group the data and create a pivot table\n",
        "g = data[(data['Loss to follow up'] == 2)].groupby(['num_cat', 'Dressing type', 'Ulcer_stage']).size().unstack(['num_cat', 'Ulcer_stage']).plot(kind='bar', rot=0, color=['lightcoral', 'coral', 'forestgreen', 'lightgreen'])\n",
        "\n",
        "# Add count values to the bar\n",
        "for bar in g.containers:\n",
        "    g.bar_label(bar, label_type='edge')\n",
        "\n",
        "# Labels and titles\n",
        "plt.xlabel(\"Dressing type\")\n",
        "plt.ylabel(\"Count\")\n",
        "plt.title(\"Healing time using the different dressing type based on Push Scale\")\n",
        "\n",
        "plt.show()\n"
      ],
      "metadata": {
        "id": "YWDY1tzkL8q1"
      },
      "execution_count": null,
      "outputs": []
    },
    {
      "cell_type": "markdown",
      "source": [
        "**Figure 5**"
      ],
      "metadata": {
        "id": "tZllVgHq8fnV"
      }
    },
    {
      "cell_type": "markdown",
      "source": [
        "The figure below tells us which age patients are infected more, which could help us in taking precautions such as change in diet and also checking other health condition of the patients. As we see in the given data age group from 60 to 80 are infected. "
      ],
      "metadata": {
        "id": "Gz9VwWPG8mIv"
      }
    },
    {
      "cell_type": "code",
      "source": [
        "# Calculate interval\n",
        "#pd.cut() function is used to create age intervals based on the Age column ,  The intervals are defined by the bins argument as [40, 50, 60, 70, 80].\n",
        "\n",
        "age_intervals = pd.cut(data.Age, bins=[40, 50, 60, 70, 80])\n",
        "\n",
        "colors = ['lightcoral', 'forestgreen']\n",
        "infected_cat= ['infected' if x==1 else 'not infected' for x in data['infected']]\n",
        "#size() function is used to count the number of patients in each group #infected - 1 else 2\n",
        "sex_age=data.groupby([age_intervals,infected_cat]).size().unstack(1).plot(kind='bar',rot=0,color=colors) #unstack - pivot a level of the row index to the column index.\n",
        "\n",
        "\n",
        "# Add count values to the bars\n",
        "for bar in sex_age.containers:\n",
        "    sex_age.bar_label(bar, label_type='edge')\n",
        "#labels and titles\n",
        "plt.xlabel(\"Age\")\n",
        "plt.ylabel(\"Count\")\n",
        "plt.title(\"Age gorup got infected\")\n",
        "plt.show()"
      ],
      "metadata": {
        "id": "urbZyIAhTBwj"
      },
      "execution_count": null,
      "outputs": []
    },
    {
      "cell_type": "markdown",
      "source": [
        "**Figure 6**"
      ],
      "metadata": {
        "id": "Hgqb4ngy98FW"
      }
    },
    {
      "cell_type": "markdown",
      "source": [
        "The risk for developing the pressure ulcer is based on the Braden  scale score. If the braden scale is in Riesgo alto then it is high risk and if its Sin riesgo\" likely had a score indicating a low risk of developing pressure ulcers.As you see in the figure below the risk of developing pressure ulcers are more from the age 60"
      ],
      "metadata": {
        "id": "8E76VxBL98S6"
      }
    },
    {
      "cell_type": "code",
      "source": [
        "\n",
        "# Calculate interval\n",
        "#pd.cut() function is used to create age intervals based on the Age column ,  The intervals are defined by the bins argument as [40, 50, 60, 70, 80].\n",
        "\n",
        "age_intervals = pd.cut(data.Age, bins=[40, 50, 60, 70, 80])\n",
        "\n",
        "colors = ['darkred','red', 'lightcoral','pink']\n",
        "#size() function is used to count the number of patients in each group #infected - 1 else 2\n",
        "braden_age=data.groupby([age_intervals,'Braden Scale']).size().unstack(1).plot(kind='bar', rot=0,color=colors) #unstack - pivot a level of the row index to the column index.\n",
        "\n",
        "#Add count values to the bar\n",
        "for bar in braden_age.containers:\n",
        "    braden_age.bar_label(bar, label_type='edge')\n",
        "\n",
        "#labels and titles\n",
        "plt.xlabel(\"Age\")\n",
        "plt.ylabel(\"Count\")\n",
        "plt.title(\"Patients in high risk for developing pressure ulcer\")\n",
        "plt.legend(title='Braden Scale', loc='upper left', labels=['Riesgo alto', 'Riesgo bajo', 'Riesgo moderado', 'Sin riesgo'])\n",
        "\n",
        "plt.show()"
      ],
      "metadata": {
        "id": "AUoQgDeNU78S"
      },
      "execution_count": null,
      "outputs": []
    },
    {
      "cell_type": "markdown",
      "source": [
        "**Figure 7**"
      ],
      "metadata": {
        "id": "rAmTcYOvDfE5"
      }
    },
    {
      "cell_type": "markdown",
      "source": [
        "Postural changes, especially when the patient is bedridden or confined to a wheelchair for extended periods, can increase the risk of both pressure ulcers and infections. As shown in the figure below stage 2 patients who has less postural changes are in risk of getting infected . If these patients are taken care, then there wont be any chances of them getting effected"
      ],
      "metadata": {
        "id": "iJx7m3wkDfQP"
      }
    },
    {
      "cell_type": "code",
      "source": [
        "stage_postural = pd.crosstab(data['Ulcer_stage'], data['Postural changes']) # crosstab table to count each combination of values \n",
        "sns.heatmap(stage_postural, annot=True, cmap='Blues')\n",
        "#\tInfected: 1 if the ulcer was infected during the study, 2 if it was not.\n",
        "plt.title('Postural changes of patients for different ulcer stages') \n"
      ],
      "metadata": {
        "id": "N0Q5V7OvPEtZ"
      },
      "execution_count": null,
      "outputs": []
    },
    {
      "cell_type": "markdown",
      "source": [
        "Correlation Coefficient Matrix- Showing the correlation between all the variables in the dataset.\n",
        " 0 indicates no correlation (variables are independent), and\n",
        " +1 indicates a perfect positive correlation\n",
        " -0.3 indicates a moderate negative correlation\n",
        " 0.5 indicates a moderate positive correlation"
      ],
      "metadata": {
        "id": "haBEmUQ5tWY8"
      }
    },
    {
      "cell_type": "code",
      "source": [
        "matrix= data.corr().round(2)\n",
        "plt.figure(figsize=(10, 10),dpi=100)\n",
        "\n",
        "#heat map to show the correlation between the parameters\n",
        "g=sns.heatmap(matrix,square=True,vmin=-1, vmax=1,annot=True,linewidths=0.2,cbar_kws={\"shrink\": 0.5})\n",
        "\n",
        "plt.show()"
      ],
      "metadata": {
        "id": "Vi9AZt4btFbC"
      },
      "execution_count": null,
      "outputs": []
    },
    {
      "cell_type": "markdown",
      "source": [
        " **Data Cleaning**: Preparing the data"
      ],
      "metadata": {
        "id": "Eost5KQZGquq"
      }
    },
    {
      "cell_type": "code",
      "source": [
        "data= data.drop(['ID code','num_cat'], axis=1)\n",
        "data.dropna(subset=['num. visit'], inplace=True)\n",
        "\n",
        "#chaninging the catogorial columns to numerical\n",
        "data['Sex']=[0 if x=='Female' else 1 for x in data['Sex']] # 0-F, 1-M\n",
        "data['Dressing type']=[1 if x=='Hydrocellular' else 2 for x in data['Dressing type']] #1- Hydrocellular , 2- Hydrocolloid\n",
        "data['Braden Scale'] = [4 if x == 'Riesgo alto' else 3 if x == 'Riesgo moderado' else 2 if x == 'Riesgo bajo' else 1 for x in data['Braden Scale']] # 4-Riesgo alto, 3-Riesgo moderado, 2-Riesgo bajo 1-Sin riesgo\n",
        "data['Location'] = [1 if x == 'Trochanter' else 2 if x == 'Heel' else 3 if x == 'Sacrum' else '4'if x == 'other' else 5 for x in data['Braden Scale']] \n",
        "\n",
        "# replace NaN with 0\n",
        "data.fillna(value=0, inplace=True)\n",
        "#converting date into number\n",
        "data['Baseline visit'] = pd.to_datetime(data['Baseline visit']).astype(int)"
      ],
      "metadata": {
        "id": "l1aS2jKF5nux"
      },
      "execution_count": null,
      "outputs": []
    },
    {
      "cell_type": "markdown",
      "source": [
        "**Normalization of Data**"
      ],
      "metadata": {
        "id": "GYoPU7liGt0x"
      }
    },
    {
      "cell_type": "code",
      "source": [
        "#Normalizing the data\n",
        "from sklearn.preprocessing import MinMaxScaler\n",
        "scaler = MinMaxScaler()\n",
        "data_normalized=pd.DataFrame(scaler.fit_transform(data), columns=data.columns)\n",
        "data_normalized"
      ],
      "metadata": {
        "id": "3Hm74RZ6FcAW"
      },
      "execution_count": null,
      "outputs": []
    },
    {
      "cell_type": "markdown",
      "source": [
        "\n",
        " **Splitting the data and Training the data**: Modelling"
      ],
      "metadata": {
        "id": "RYDIhmjhGxW8"
      }
    },
    {
      "cell_type": "code",
      "source": [
        "#Y is the data with dependent variable\n",
        "Y = data_normalized[\"Dressing type\"].values\n",
        "\n",
        "#X is data with independent variables\n",
        "X = data_normalized.drop(labels = [\"Dressing type\"], axis=1)  \n",
        "#print(X.head())\n",
        "\n",
        "#SPLIT THE DATA into TRAIN AND TEST data\n",
        "from sklearn.model_selection import train_test_split\n",
        "from sklearn.ensemble import RandomForestClassifier\n",
        "from sklearn.linear_model import LogisticRegression\n",
        "from sklearn import metrics\n",
        "from sklearn.metrics import confusion_matrix\n",
        "from sklearn.metrics import precision_score, recall_score\n",
        "\n",
        "\n",
        "\n",
        "accuracies = []\n",
        "acc_log=[]\n",
        "precisions=[]\n",
        "recalls =[]\n",
        "cms=[]\n",
        "test_sizes= []\n",
        "\n",
        "test_size_range = [0.2, 0.3, 0.4, 0.5,0.1]\n",
        "\n",
        "for size in test_size_range:\n",
        "    # Split the data into training and testing sets using the current test size\n",
        "    X_train, X_test, y_train, y_test = train_test_split(X, Y, test_size=size, random_state=30)\n",
        "\n",
        "#random_state can be any integer and it is used as a seed to randomly split dataset.\n",
        "#By doing this we work with same test dataset evry time, if this is important.\n",
        "\n",
        "#training the model\n",
        "# Import the model we are using Logistic Regression. \n",
        "\n",
        "    model_log=LogisticRegression()\n",
        "    model_log.fit(X_train, y_train)\n",
        "#Testing the model with test data and calculate the accuracy\n",
        "    predict_log=model_log.predict(X_test)\n",
        "#print(y_test, prediction_test)\n",
        "\n",
        "#accuracy\n",
        "    accuracy_loges= metrics.accuracy_score(y_test, predict_log)\n",
        "    precision = precision_score(y_test, predict_log)\n",
        "    recall = recall_score(y_test, predict_log)\n",
        "    accuracies.append(accuracy_loges)\n",
        "    precisions.append(precision)\n",
        "    recalls.append(recall)\n",
        "\n",
        "    test_sizes.append(size)\n",
        "    print(f'Test size: {size}, Accuracy: {accuracy_loges:.4f}, Precision: {precision:.4f}, Recall: {recall:.4f}')\n",
        "\n",
        "    # create confusion matrix with heatmap\n",
        "    plt.figure(figsize=(4,4))\n",
        "    cm = confusion_matrix(y_test, predict_log)\n",
        "    cms.append(cm)\n",
        "    sns.heatmap(cm, annot=True, cmap=\"Blues\", fmt=\".0f\")\n",
        "    plt.title('Confusion Matrix')\n",
        "    plt.xlabel('Predicted label')\n",
        "    plt.ylabel('True label')\n",
        "    plt.show()\n",
        "print('----------------------------------------------------------------')\n",
        "\n"
      ],
      "metadata": {
        "id": "_qli3nLlLBRM"
      },
      "execution_count": null,
      "outputs": []
    },
    {
      "cell_type": "markdown",
      "source": [
        "**CNN**"
      ],
      "metadata": {
        "id": "eOh-_TnqxG7E"
      }
    },
    {
      "cell_type": "code",
      "source": [
        "import pandas as pd\n",
        "import numpy as np\n",
        "from keras.models import Sequential\n",
        "from keras.layers import Dense, Conv1D, MaxPooling1D, Flatten\n",
        "\n",
        "# Preprocess the data (example shown for time-series data)\n",
        "seq_len = 50\n",
        "data_normalized = np.random.rand(1000) # example data\n",
        "sequence_data = []\n",
        "for i in range(len(data_normalized)-seq_len):\n",
        "    sequence_data.append(data_normalized[i:i+seq_len])\n",
        "sequence_data = np.array(sequence_data)\n",
        "\n",
        "# Generate or obtain labels\n",
        "labels = np.random.randint(0, 2, size=len(sequence_data))\n",
        "\n",
        "# Split the preprocessed data into training and testing sets\n",
        "train_split = 0.8\n",
        "train_size = int(len(sequence_data) * train_split)\n",
        "train_data = sequence_data[:train_size]\n",
        "test_data = sequence_data[train_size:]\n",
        "y_train = labels[:train_size]\n",
        "y_train = y_train[:len(train_data)]  # Make y_train the same size as train_data\n",
        "y_test = labels[train_size:]\n",
        "\n",
        "# Reshape the input data for use with a 1D convolutional neural network\n",
        "train_data = np.reshape(train_data, (train_data.shape[0], train_data.shape[1], 1))\n",
        "test_data = np.reshape(test_data, (test_data.shape[0], test_data.shape[1], 1))\n",
        "\n",
        "# Define CNN architecture and train the model using Keras\n",
        "model = Sequential()\n",
        "\n",
        "# Convolutional Layer 1\n",
        "model.add(Conv1D(filters=32, kernel_size=2, activation='relu', input_shape=(seq_len, 1)))\n",
        "model.add(MaxPooling1D(pool_size=2))\n",
        "\n",
        "# Convolutional Layer 2\n",
        "model.add(Conv1D(64, kernel_size=2, activation='relu'))\n",
        "model.add(MaxPooling1D(pool_size=2))\n",
        "\n",
        "# Convolutional Layer 3\n",
        "model.add(Conv1D(128, kernel_size=2, activation='relu'))\n",
        "model.add(MaxPooling1D(pool_size=2))\n",
        "\n",
        "model.add(Flatten())\n",
        "# Dense Layer\n",
        "model.add(Dense(64, activation='relu'))\n",
        "model.add(Dense(64, activation='relu'))\n",
        "model.add(Dense(128, activation='relu'))\n",
        "\n",
        "model.add(Dense(1, activation='sigmoid'))\n",
        "model.compile(optimizer='adam', loss='binary_crossentropy', metrics=['accuracy'])\n",
        "model.fit(train_data, y_train, epochs=30, batch_size=32)\n",
        "\n",
        "# Evaluate the trained model\n",
        "loss, accuracy = model.evaluate(test_data, y_test)\n",
        "print('Accuracy:', accuracy)\n"
      ],
      "metadata": {
        "id": "Zzf2r9ummxJS"
      },
      "execution_count": null,
      "outputs": []
    },
    {
      "cell_type": "markdown",
      "source": [
        "**Business Opportunities**"
      ],
      "metadata": {
        "id": "Wr0gfjvOxQyT"
      }
    },
    {
      "cell_type": "markdown",
      "source": [
        "This data isnt sufficient more characteircs and medical history of the person would give an good insite.\n",
        "length width of the ulcers would actually help in knowing how fast the healing is taking place by the dressing types\n",
        "Having unbaised data for both the ulcer stage and gender would be helpful\n",
        "\n",
        "Predicting the changes of getting more ulcers based on the other characteristics or health condition of the patients\n",
        "\n",
        "Predict the healing time of the patients based on the characteristics\n",
        "\n",
        "classifying the best dressing type with effective healing time and reducing the infection based on the characteristics and the length and width of the ulcer\n",
        "\n",
        "\n"
      ],
      "metadata": {
        "id": "a5ltQvC36Ue4"
      }
    }
  ]
}